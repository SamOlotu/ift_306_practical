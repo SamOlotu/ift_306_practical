{
 "cells": [
  {
   "cell_type": "code",
   "execution_count": 1,
   "id": "06ba895f",
   "metadata": {},
   "outputs": [],
   "source": [
    "# Write a Python class Employee with attributes: emp_id, emp_name, emp_salary, \n",
    "# and emp_department and methods like calculate_emp_salary, emp_assign_department,\n",
    "# and print_employee_details.\n",
    "\n",
    "class employee():\n",
    "    def __init__(self,emp_id,emp_salary,emp_department):\n",
    "        self.emp_id = emp_id\n",
    "        self.emp_salary = emp_salary\n",
    "        self.emp_department = emp_department\n",
    "    def calculate_emp_salary(self,worked_hours):\n",
    "        if (worked_hours>50):\n",
    "            overtime = worked_hours -50\n",
    "            overtime_amount = overtime * (self.emp_salary/50)\n",
    "            print (\"Overtime Amount =\", overtime_amount,\"\\n\")\n",
    "    def emp_assign_department(self,emp_department):\n",
    "        self.emp_department = emp_department\n",
    "    def print_employee_details(self):\n",
    "        print(\"Employee ID:\", self.emp_id)\n",
    "        print(\"Employee Salary:\", self.emp_salary)\n",
    "        print(\"Employee Department:\", self.emp_department)\n",
    "        \n",
    "employee1 = employee(\"0001\",25000,\"REGISTRY\")"
   ]
  },
  {
   "cell_type": "code",
   "execution_count": 2,
   "id": "27c7b2a2",
   "metadata": {},
   "outputs": [
    {
     "name": "stdout",
     "output_type": "stream",
     "text": [
      "Overtime Amount = 2500.0 \n",
      "\n"
     ]
    }
   ],
   "source": [
    "employee1.calculate_emp_salary(55)    \n",
    "#employee1.emp_assign_department(\"INFORMATION TECHNOLOGY\")\n",
    "#employee1.print_employee_details()"
   ]
  },
  {
   "cell_type": "code",
   "execution_count": 3,
   "id": "84a18877",
   "metadata": {},
   "outputs": [],
   "source": [
    "employee1.emp_assign_department(\"INFORMATION TECHNOLOGY\")"
   ]
  },
  {
   "cell_type": "code",
   "execution_count": 4,
   "id": "5bd7e84f",
   "metadata": {},
   "outputs": [
    {
     "name": "stdout",
     "output_type": "stream",
     "text": [
      "Employee ID: 0001\n",
      "Employee Salary: 25000\n",
      "Employee Department: INFORMATION TECHNOLOGY\n"
     ]
    }
   ],
   "source": [
    "employee1.print_employee_details()"
   ]
  },
  {
   "cell_type": "code",
   "execution_count": 5,
   "id": "11a28d28",
   "metadata": {},
   "outputs": [],
   "source": [
    "# Write a Python class BankAccount with attributes like account_number, balance, \n",
    "# date_of_opening and customer_name, and methods like deposit, withdraw, and check_balance.\n",
    "\n",
    "class BankAccount():\n",
    "    def __init__(self, account_number, balance, date_of_opening, customer_name):\n",
    "        self.account_number = account_number\n",
    "        self.balance = balance\n",
    "        self.date_of_opening = date_of_opening\n",
    "        self.customer_name = customer_name\n",
    "    def deposit(self, deposit_amount):\n",
    "        self.balance = self.balance + deposit_amount\n",
    "    def withdraw(self, withdraw_amount):\n",
    "        self.balance = self.balance - withdraw_amount\n",
    "    def check_balance(self):\n",
    "        print(\"Account balance = \", self.balance)\n",
    "futa_account = BankAccount(\"218000122\",200000,\"01/01/1950\",\"AYODELE KOLAWOLE\")       "
   ]
  },
  {
   "cell_type": "code",
   "execution_count": 6,
   "id": "40d9b79f",
   "metadata": {},
   "outputs": [
    {
     "name": "stdout",
     "output_type": "stream",
     "text": [
      "Account balance =  300000\n"
     ]
    }
   ],
   "source": [
    "futa_account.deposit(100000)\n",
    "futa_account.check_balance()"
   ]
  },
  {
   "cell_type": "code",
   "execution_count": 7,
   "id": "7e3f24e5",
   "metadata": {},
   "outputs": [
    {
     "name": "stdout",
     "output_type": "stream",
     "text": [
      "Account balance =  120000\n"
     ]
    }
   ],
   "source": [
    "futa_account.withdraw(180000)\n",
    "futa_account.check_balance()"
   ]
  },
  {
   "cell_type": "code",
   "execution_count": 28,
   "id": "86347a54",
   "metadata": {},
   "outputs": [
    {
     "name": "stdout",
     "output_type": "stream",
     "text": [
      "{'item_name': 'Laptop', 'stock_count': 100, 'price': 500000.0}\n",
      "{'item_name': 'Mobile Phone', 'stock_count': 200, 'price': 200000.0}\n",
      "{'item_name': 'Laptop', 'stock_count': 100, 'price': 550000.0}\n"
     ]
    }
   ],
   "source": [
    "# Write a Python class Inventory with attributes item_id, \n",
    "# item_name, stock_count, and price, and methods add_item, \n",
    "# update_item, and check_item_details.\n",
    "\n",
    "class Inventory():\n",
    "    def __init__(self):\n",
    "        self.store = {}\n",
    "    def add_item(self, item_id, item_name, stock_count, price):\n",
    "        self.store[item_id] = {\"item_name\":item_name,\"stock_count\":stock_count, \"price\":price}\n",
    "    def update_item(self, item_id, stock_count, price):\n",
    "        if item_id in self.store:\n",
    "            self.store[item_id]['stock_count'] = stock_count\n",
    "            self.store[item_id]['price'] = price\n",
    "        else:\n",
    "            print(\"item not found in inventory\")\n",
    "    def check_item_details(self, item_id):\n",
    "        if item_id in self.store:\n",
    "            item = self.store[item_id]\n",
    "            return self.store[item_id]\n",
    "        else:\n",
    "            print(\"Item not found in inventory\")\n",
    "\n",
    "inventory = Inventory()\n",
    "inventory.add_item(\"001\", \"Laptop\", 100, 500000.00)\n",
    "inventory.add_item(\"002\", \"Mobile Phone\", 200, 200000.00)\n",
    "print(inventory.check_item_details(\"001\"))\n",
    "print(inventory.check_item_details(\"002\"))\n",
    "inventory.update_item(\"001\", 100, 550000.00)\n",
    "print(inventory.check_item_details(\"001\"))\n",
    "        "
   ]
  },
  {
   "cell_type": "code",
   "execution_count": null,
   "id": "cf52bcbc",
   "metadata": {},
   "outputs": [],
   "source": []
  },
  {
   "cell_type": "code",
   "execution_count": null,
   "id": "ccfa535c",
   "metadata": {},
   "outputs": [],
   "source": []
  }
 ],
 "metadata": {
  "kernelspec": {
   "display_name": "Python 3 (ipykernel)",
   "language": "python",
   "name": "python3"
  },
  "language_info": {
   "codemirror_mode": {
    "name": "ipython",
    "version": 3
   },
   "file_extension": ".py",
   "mimetype": "text/x-python",
   "name": "python",
   "nbconvert_exporter": "python",
   "pygments_lexer": "ipython3",
   "version": "3.11.7"
  }
 },
 "nbformat": 4,
 "nbformat_minor": 5
}
