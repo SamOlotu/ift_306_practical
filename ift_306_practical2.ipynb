{
  "nbformat": 4,
  "nbformat_minor": 0,
  "metadata": {
    "colab": {
      "provenance": [],
      "authorship_tag": "ABX9TyPCzfu9SNZtyty8HQxempQg",
      "include_colab_link": true
    },
    "kernelspec": {
      "name": "python3",
      "display_name": "Python 3"
    },
    "language_info": {
      "name": "python"
    }
  },
  "cells": [
    {
      "cell_type": "markdown",
      "metadata": {
        "id": "view-in-github",
        "colab_type": "text"
      },
      "source": [
        "<a href=\"https://colab.research.google.com/github/SamOlotu/ift_306_practical/blob/main/ift_306_practical2.ipynb\" target=\"_parent\"><img src=\"https://colab.research.google.com/assets/colab-badge.svg\" alt=\"Open In Colab\"/></a>"
      ]
    },
    {
      "cell_type": "code",
      "execution_count": 11,
      "metadata": {
        "colab": {
          "base_uri": "https://localhost:8080/"
        },
        "id": "EX4GlVQsk3Uy",
        "outputId": "8e4ce5b2-5083-418f-cb2a-ea2fa7051e15"
      },
      "outputs": [
        {
          "output_type": "stream",
          "name": "stdout",
          "text": [
            "No of course registered ==> 1\n",
            "Enter score ==>  67\n",
            "Enter unit ==> 5\n",
            "tlu ==>  5\n",
            "tcp ==>  20\n",
            "gpa ==>  4.0\n"
          ]
        }
      ],
      "source": [
        "#create the class\n",
        "class student():\n",
        "  dept = \"IFT\"\n",
        "  level = \"300\"\n",
        "  #def __init__(self):\n",
        "\n",
        "  #method for computing the tcp\n",
        "  def ftcp (self, score):\n",
        "    match score:\n",
        "      case score if (score>=70 and score <=100):\n",
        "        return \"5\"\n",
        "      case score if (score>=60 and score <=69):\n",
        "        return \"4\"\n",
        "      case score if (score>=50 and score <=59):\n",
        "        return \"3\"\n",
        "      case score if (score>=45 and score <=50):\n",
        "        return \"2\"\n",
        "      case score if (score < 45):\n",
        "        return \"1\"\n",
        "      case other:\n",
        "        \"Invalid value\"\n",
        "\n",
        "#create the object\n",
        "student1 = student()\n",
        "n = int(input (\"No of course registered ==> \"))\n",
        "\n",
        "#initialize tlu and tcp values\n",
        "tlu = 0\n",
        "tcp = 0\n",
        "\n",
        "for i in range(n):\n",
        "  #supply score\n",
        "  cscore = int(input (\"Enter score ==>  \"))\n",
        "\n",
        "  #supply unit\n",
        "  cunit = int(input (\"Enter unit ==> \"))\n",
        "\n",
        "  #compute tcp and tlu\n",
        "  tcp = tcp + (int(student1.ftcp(cscore)) * cunit)\n",
        "  tlu = tlu + cunit\n",
        "\n",
        "#print tcp and tlu\n",
        "print (\"tlu ==> \",tlu)\n",
        "print (\"tcp ==> \", tcp)\n",
        "#compute cgp\n",
        "print(\"gpa ==> \",tcp/tlu)"
      ]
    }
  ]
}