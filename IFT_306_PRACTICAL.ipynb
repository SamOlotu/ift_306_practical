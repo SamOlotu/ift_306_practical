{
  "nbformat": 4,
  "nbformat_minor": 0,
  "metadata": {
    "colab": {
      "provenance": [],
      "toc_visible": true,
      "authorship_tag": "ABX9TyNe7/13oVoE4ut8DpygIhfR",
      "include_colab_link": true
    },
    "kernelspec": {
      "name": "python3",
      "display_name": "Python 3"
    },
    "language_info": {
      "name": "python"
    }
  },
  "cells": [
    {
      "cell_type": "markdown",
      "metadata": {
        "id": "view-in-github",
        "colab_type": "text"
      },
      "source": [
        "<a href=\"https://colab.research.google.com/github/SamOlotu/ift_306_practical/blob/main/IFT_306_PRACTICAL.ipynb\" target=\"_parent\"><img src=\"https://colab.research.google.com/assets/colab-badge.svg\" alt=\"Open In Colab\"/></a>"
      ]
    },
    {
      "cell_type": "code",
      "execution_count": 3,
      "metadata": {
        "colab": {
          "base_uri": "https://localhost:8080/"
        },
        "id": "AtjCPQOD26ST",
        "outputId": "7afb01eb-ed32-4a36-9517-be9c10b322cd"
      },
      "outputs": [
        {
          "output_type": "stream",
          "name": "stdout",
          "text": [
            "No of course registered: 3\n",
            "Enter score 70\n",
            "Enter unit: 3\n",
            "Enter score 75\n",
            "Enter unit: 2\n",
            "Enter score 80\n",
            "Enter unit: 1\n",
            "tlu 6\n",
            "tcp 30\n",
            "gpa : 5.0\n"
          ]
        }
      ],
      "source": [
        "class student():\n",
        "  dept = \"IFT\"\n",
        "  level = \"300\"\n",
        "  #def __init__(self):\n",
        "\n",
        "  def ftcp (self, score):\n",
        "    if (score>=70 and score <=100):\n",
        "      return \"5\"\n",
        "    elif (score>=60 and score <=69):\n",
        "      return \"4\"\n",
        "    elif (score>=50 and score <=59):\n",
        "      return \"3\"\n",
        "    elif (score>=45 and score <=49):\n",
        "      return \"2\"\n",
        "    elif (score <45):\n",
        "      return \"0\"\n",
        "    else:\n",
        "      return \"invalid no\"\n",
        "\n",
        "student1 = student()\n",
        "n = int(input (\"No of course registered: \"))\n",
        "\n",
        "#score = []\n",
        "#unit = []\n",
        "tlu = 0\n",
        "tcp = 0\n",
        "for i in range(n):\n",
        "  #supply score\n",
        "  cscore = int(input (\"Enter score \"))\n",
        "  #score.append (cscore)\n",
        "  #supply unit\n",
        "  cunit = int(input (\"Enter unit: \"))\n",
        "  #unit.append (cunit)\n",
        "  #compute tcp and tlu\n",
        "  tcp = tcp + (int(student1.ftcp(cscore)) * cunit)\n",
        "  tlu = tlu + cunit\n",
        "\n",
        "print (\"tlu\",tlu)\n",
        "print (\"tcp\", tcp)\n",
        "#compute cgp\n",
        "print(\"gpa :\",tcp/tlu)"
      ]
    }
  ]
}