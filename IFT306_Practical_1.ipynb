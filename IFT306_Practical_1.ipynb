{
 "cells": [
  {
   "cell_type": "code",
   "execution_count": 6,
   "id": "fb13e814",
   "metadata": {},
   "outputs": [],
   "source": [
    "# Create a dummy class and create the object\n",
    "\n",
    "class student():\n",
    "    pass"
   ]
  },
  {
   "cell_type": "code",
   "execution_count": 14,
   "id": "4b751ad7",
   "metadata": {},
   "outputs": [
    {
     "name": "stdout",
     "output_type": "stream",
     "text": [
      "No of course registered: 3\n",
      "Enter score 63\n",
      "Enter unit: 4\n",
      "Enter score 58\n",
      "Enter unit: 5\n",
      "Enter score 70\n",
      "Enter unit: 2\n",
      "tlu 11\n",
      "tcp 41\n",
      "gpa : 3.727272727272727\n"
     ]
    }
   ],
   "source": [
    "# Create student class, with attributes “dept” and “level” with \n",
    "#default values “IFT” and “300” respectively. Add a method to compute \n",
    "# cgpa from 2 parameters: tcp and tlu. Create the student object and call the method cgpa\n",
    "\n",
    "class student():\n",
    "    def __init__(self):\n",
    "        self.score = 0\n",
    "        self.dept = \"IFT\"\n",
    "        self.level = \"300\"\n",
    "        self.tlu = 0\n",
    "        self.tcp = 0\n",
    "        self.ncourse = 0\n",
    "    def ftcp (self, score):\n",
    "        if (score>=70 and score <=100):\n",
    "            return \"5\"\n",
    "        elif (score>=60 and score <=69):\n",
    "            return \"4\"\n",
    "        elif (score>=50 and score <=59):\n",
    "            return \"3\"\n",
    "        elif (score>=45 and score <=49):\n",
    "            return \"2\"\n",
    "        elif (score <45):\n",
    "            return \"0\"\n",
    "        else:\n",
    "            return \"invalid no\"\n",
    "    def compute_gpa(self):\n",
    "        ncourse = int(input (\"No of course registered: \"))\n",
    "        for i in range(ncourse):\n",
    "            #supply score\n",
    "            cscore = int(input (\"Enter score \"))\n",
    "            #supply unit\n",
    "            cunit = int(input (\"Enter unit: \"))\n",
    "            #compute tcp and tlu\n",
    "            self.tcp = self.tcp + (int(student1.ftcp(cscore)) * cunit)\n",
    "            self.tlu = self.tlu + cunit\n",
    "        print (\"tlu\",self.tlu)\n",
    "        print (\"tcp\", self.tcp)\n",
    "        #compute cgp\n",
    "        print(\"gpa :\",self.tcp/self.tlu)\n",
    "\n",
    "student1 = student()\n",
    "student1.compute_gpa()"
   ]
  },
  {
   "cell_type": "code",
   "execution_count": null,
   "id": "7214474a",
   "metadata": {},
   "outputs": [],
   "source": []
  }
 ],
 "metadata": {
  "kernelspec": {
   "display_name": "Python 3 (ipykernel)",
   "language": "python",
   "name": "python3"
  },
  "language_info": {
   "codemirror_mode": {
    "name": "ipython",
    "version": 3
   },
   "file_extension": ".py",
   "mimetype": "text/x-python",
   "name": "python",
   "nbconvert_exporter": "python",
   "pygments_lexer": "ipython3",
   "version": "3.11.7"
  }
 },
 "nbformat": 4,
 "nbformat_minor": 5
}
