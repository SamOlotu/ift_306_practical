{
 "cells": [
  {
   "cell_type": "code",
   "execution_count": 2,
   "id": "623d8603",
   "metadata": {},
   "outputs": [
    {
     "name": "stdout",
     "output_type": "stream",
     "text": [
      "314.1592653589793\n",
      "62.83185307179586\n"
     ]
    }
   ],
   "source": [
    "#a Python program to create a class circle\n",
    "#with methods to calculate its area and perimeter\n",
    "from math import pi\n",
    "class circle():\n",
    "    def __init__(self):\n",
    "        self.area = 0\n",
    "        self.perimeter = 0\n",
    "    def compute_area(self, radius):\n",
    "        self.area = pi * (radius**2)\n",
    "        return (self.area)\n",
    "    def compute_perimeter(self, radius):\n",
    "        self.perimeter = 2 * pi * radius\n",
    "        return (self.perimeter)\n",
    "circle1 = circle()\n",
    "print(circle1.compute_area(10))\n",
    "print(circle1.compute_perimeter(10))"
   ]
  },
  {
   "cell_type": "code",
   "execution_count": 3,
   "id": "cd27a7c8",
   "metadata": {},
   "outputs": [
    {
     "name": "stdout",
     "output_type": "stream",
     "text": [
      "17\n"
     ]
    }
   ],
   "source": [
    "# A Python program to create a person class.\n",
    "# Include attributes like name, country and date of birth. \n",
    "#Implement a method to determine the person's age\n",
    "from datetime import date\n",
    "\n",
    "class person():\n",
    "    def __init__(self, name, country):\n",
    "        self.name = name\n",
    "        self.country = country\n",
    "    def age (self, dob):\n",
    "        today = date.today()\n",
    "        return (today.year - dob.year)\n",
    "person1 = person(\"Olamide\",\"Nigeria\")\n",
    "print(person1.age(date(2007,3,23)))"
   ]
  },
  {
   "cell_type": "code",
   "execution_count": 4,
   "id": "9c6e4a5c",
   "metadata": {},
   "outputs": [
    {
     "name": "stdout",
     "output_type": "stream",
     "text": [
      "['One']\n",
      "['One', 'Two']\n",
      "['One', 'Two', 'Three']\n",
      "Three\n",
      "Two\n"
     ]
    }
   ],
   "source": [
    "# A Python program to create a class representing a stack data structure.\n",
    "#Include methods for pushing and popping elements.\n",
    "class stack():\n",
    "    def __init__(self):\n",
    "        self.item = []\n",
    "    def push(self, value):\n",
    "        self.item.append(value)\n",
    "        return (self.item)\n",
    "    def pop(self):\n",
    "        return (self.item.pop())\n",
    "stack1 = stack()\n",
    "print(stack1.push(\"One\"))\n",
    "print(stack1.push(\"Two\"))\n",
    "print(stack1.push(\"Three\"))\n",
    "print(stack1.pop())\n",
    "print(stack1.pop())"
   ]
  },
  {
   "cell_type": "code",
   "execution_count": 9,
   "id": "da56c3cc",
   "metadata": {},
   "outputs": [
    {
     "name": "stdout",
     "output_type": "stream",
     "text": [
      "['Phone', 'Laptop', 'Power Bank'] [200000, 400000, 400000]\n",
      "['Laptop', 'Power Bank'] [400000, 400000]\n",
      "800000\n"
     ]
    }
   ],
   "source": [
    "#a Python program to create a class representing a shopping cart.\n",
    "#Include methods for adding and removing items, and calculating the total price.\n",
    "class shopping_cart():\n",
    "    def __init__(self):\n",
    "        self.cart = []\n",
    "        self.price = []\n",
    "        self.total = 0\n",
    "    def add_to_cart(self, item, price):\n",
    "        self.cart.append(item)\n",
    "        self.price.append(price)\n",
    "    def remove_from_cart(self, index):\n",
    "        n = int(index)\n",
    "        self.cart.remove(self.cart[n])\n",
    "        self.price.remove(self.price[n])\n",
    "    def total_price(self):\n",
    "        self.total = sum(self.price)\n",
    "        return(self.total)\n",
    "    def display_cart (self):\n",
    "        print(self.cart, self.price)\n",
    "shop_cart=shopping_cart()\n",
    "shop_cart.add_to_cart(\"Phone\",200000)\n",
    "shop_cart.add_to_cart(\"Laptop\",400000)\n",
    "shop_cart.add_to_cart(\"Power Bank\",400000)\n",
    "shop_cart.display_cart()\n",
    "shop_cart.remove_from_cart(0)\n",
    "shop_cart.display_cart()\n",
    "print(shop_cart.total_price())\n",
    "\n",
    "    "
   ]
  }
 ],
 "metadata": {
  "kernelspec": {
   "display_name": "Python 3 (ipykernel)",
   "language": "python",
   "name": "python3"
  },
  "language_info": {
   "codemirror_mode": {
    "name": "ipython",
    "version": 3
   },
   "file_extension": ".py",
   "mimetype": "text/x-python",
   "name": "python",
   "nbconvert_exporter": "python",
   "pygments_lexer": "ipython3",
   "version": "3.11.7"
  }
 },
 "nbformat": 4,
 "nbformat_minor": 5
}
